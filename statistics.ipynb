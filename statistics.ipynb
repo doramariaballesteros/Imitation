{
  "nbformat": 4,
  "nbformat_minor": 0,
  "metadata": {
    "colab": {
      "name": "statistics.ipynb",
      "provenance": [],
      "collapsed_sections": []
    },
    "kernelspec": {
      "name": "python3",
      "display_name": "Python 3"
    },
    "language_info": {
      "name": "python"
    }
  },
  "cells": [
    {
      "cell_type": "code",
      "metadata": {
        "colab": {
          "base_uri": "https://localhost:8080/",
          "height": 433
        },
        "id": "svzTAYjikHkE",
        "outputId": "d50763df-fb3d-430c-ed01-e4ff7f48b656"
      },
      "source": [
        "# This code allows to obtain some statistics of the audios as well as their histograms.\n",
        "# Author: Dora Maria Ballesteros.\n",
        "# 26/05/2021.\n",
        "\n",
        "from scipy.io import wavfile\n",
        "import IPython\n",
        "import numpy as np\n",
        "import scipy.stats as stats\n",
        "from scipy.stats import kurtosis, skew, entropy\n",
        "import matplotlib.pyplot as plt\n",
        "\n",
        "# 1. Load the audios\n",
        "sr1, audio1 = wavfile.read('/content/audio1.wav')\n",
        "IPython.display.Audio(audio1, rate=sr1)\n",
        "\n",
        "sr2, audio2 = wavfile.read('/content/audio2.wav')\n",
        "IPython.display.Audio(audio2, rate=sr2)\n",
        "\n",
        "# 2. Scaling the audios\n",
        "audio1=audio1/(np.max(abs(audio1)))\n",
        "audio2=audio2/(np.max(abs(audio2)))\n",
        "\n",
        "# 3. Obtain the statistics\n",
        "# avg is the average\n",
        "# std is the standard devitation\n",
        "# kur is the kurtosis (measure of how pointed the distribution of the data is, relative to a normal distribution)\n",
        "# sk is the skewness (measure of symmetry)\n",
        "\n",
        "avg1 = np.mean(audio1)\n",
        "avg2 = np.mean(audio2)\n",
        "\n",
        "std1 = np.std(audio1)\n",
        "std2 = np.std(audio2)\n",
        "\n",
        "kur1 = kurtosis(audio1, fisher=False)\n",
        "kur2 = kurtosis(audio2, fisher=False)\n",
        "\n",
        "sk1 = skew(audio1)\n",
        "sk2 = skew(audio2)\n",
        "\n",
        "print('avg1 is:', avg1)\n",
        "print('avg2 is:', avg2)\n",
        "\n",
        "print('std1 is:', std1)\n",
        "print('std2 is:', std2)\n",
        "\n",
        "print('kurtosis1 is:', kur1)\n",
        "print('kurtosis2 is:', kur2)\n",
        "\n",
        "print('skewness1 is:', sk1)\n",
        "print('skewness2 is:', sk2)\n",
        "\n",
        "# 4. Plot the histograms and print their entropy\n",
        "# et is the entropy of the audios (measure of uncertainty)\n",
        "\n",
        "# Histogram and entropy of audio1\n",
        "fig, axs = plt.subplots(2)\n",
        "plt.rcParams[\"figure.figsize\"] = (18,16)\n",
        "n, bins, patches = axs[0].hist(x=audio1, bins=256, color='#0504aa')\n",
        "\n",
        "\n",
        "p =n/sum(n)\n",
        "log=np.zeros(len(n))\n",
        "for i in range(len(n)):\n",
        "  if n[i]>0:\n",
        "    log[i]= -np.log2(p[i])*p[i]\n",
        "\n",
        "\n",
        "et1 = sum(log)\n",
        "print('entropy1 is:', et1)\n",
        "\n",
        "# Histogram and entropy of audio2\n",
        "\n",
        "n, bins, patches = axs[1].hist(x=audio2, bins=256, color='#0504aa')\n",
        "plt.rcParams[\"figure.figsize\"] = (18,16)\n",
        "\n",
        "p =n/sum(n)\n",
        "log=np.zeros(len(n))\n",
        "for i in range(len(n)):\n",
        "  if n[i]>0:\n",
        "    log[i]= -np.log2(p[i])*p[i]\n",
        "\n",
        "\n",
        "et2 = sum(log)\n",
        "print('entropy2 is:', et2)"
      ],
      "execution_count": 2,
      "outputs": [
        {
          "output_type": "stream",
          "text": [
            "avg1 is: -0.00027905464277219234\n",
            "avg2 is: 2.408433051488149e-06\n",
            "std1 is: 0.14442434785837635\n",
            "std2 is: 0.18372124328939365\n",
            "kurtosis1 is: 7.582048225892236\n",
            "kurtosis2 is: 6.817704875590987\n",
            "skewness1 is: 0.1320703202211987\n",
            "skewness2 is: 0.13782917655656363\n",
            "entropy1 is: 5.823767608676299\n",
            "entropy2 is: 6.24413540513696\n"
          ],
          "name": "stdout"
        },
        {
          "output_type": "display_data",
          "data": {
            "image/png": "[encoded data removed]",
            "text/plain": [
              "<Figure size 432x288 with 2 Axes>"
            ]
          },
          "metadata": {
            "tags": [],
            "needs_background": "light"
          }
        }
      ]
    }
  ]
}