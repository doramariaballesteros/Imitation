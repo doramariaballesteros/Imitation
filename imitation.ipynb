{
  "nbformat": 4,
  "nbformat_minor": 0,
  "metadata": {
    "colab": {
      "name": "imitation.ipynb",
      "provenance": [],
      "collapsed_sections": []
    },
    "kernelspec": {
      "name": "python3",
      "display_name": "Python 3"
    },
    "language_info": {
      "name": "python"
    }
  },
  "cells": [
    {
      "cell_type": "code",
      "metadata": {
        "id": "lkzdHvZECLd0"
      },
      "source": [
        "# This code allows a speech signal (i.e., source) to imitate another speech signal (i.e., target)\n",
        "# using signal processing. For this example, audio1 is the source and audio2 is the target\n",
        "# Author: Dora Maria Ballesteros\n",
        "# 26/05/2021\n",
        "\n",
        "from scipy.io import wavfile\n",
        "import IPython\n",
        "import numpy as np\n",
        "import scipy.stats as stats\n",
        "from scipy.stats import kurtosis, skew, entropy\n",
        "import matplotlib.pyplot as plt\n",
        "import numpy as np\n",
        "import pywt\n",
        "from pywt import wavedec\n",
        "from numpy import savetxt"
      ],
      "execution_count": 1,
      "outputs": []
    },
    {
      "cell_type": "code",
      "metadata": {
        "id": "PHx7bhZyJynS"
      },
      "source": [
        "# 1. Load the audios and scaling\n",
        "sr1, source = wavfile.read('/content/audio1.wav')\n",
        "source=source/(np.max(abs(source)))\n",
        "IPython.display.Audio(source, rate=sr1)"
      ],
      "execution_count": null,
      "outputs": []
    },
    {
      "cell_type": "code",
      "metadata": {
        "id": "vNtqmU1nJwv8"
      },
      "source": [
        "sr2, target = wavfile.read('/content/audio2.wav')\n",
        "target=target/(np.max(abs(target)))\n",
        "IPython.display.Audio(target, rate=sr2)"
      ],
      "execution_count": null,
      "outputs": []
    },
    {
      "cell_type": "code",
      "metadata": {
        "id": "mELCW6CwJpVU"
      },
      "source": [
        "#2. Apply DWT \n",
        "csource = wavedec(source, 'sym4', level=2)\n",
        "ctarget = wavedec(target, 'sym4', level=2)\n",
        "\n",
        "csA2 = csource[0]\n",
        "csD2 = csource[1]\n",
        "csD1 = csource[2]\n",
        "\n",
        "ctA2 = ctarget[0]\n",
        "ctD2 = ctarget[1]\n",
        "ctD1 = ctarget[2]\n",
        "\n",
        "cs=np.concatenate((csA2, csD2, csD1), axis=0)\n",
        "ct=np.concatenate((ctA2, ctD2, ctD1), axis=0)"
      ],
      "execution_count": 4,
      "outputs": []
    },
    {
      "cell_type": "code",
      "metadata": {
        "id": "ff8BTpwAMsLg"
      },
      "source": [
        "#3. Apply Sort\n",
        "csource_sorted =np.sort(cs)\n",
        "index1 = np.argsort(cs)\n",
        "\n",
        "ctarget_sorted= np.sort(ct)\n",
        "index2 = np.argsort(ct)"
      ],
      "execution_count": 5,
      "outputs": []
    },
    {
      "cell_type": "code",
      "metadata": {
        "id": "8LOMbUqUM2oA"
      },
      "source": [
        "# 4. Assign new positions to the wavelet coefficients of audio1, according to index1 and index2\n",
        "\n",
        "# the rule is coeff_source[index_target]=coeff_source[index_source]\n",
        "cs_m=np.zeros(len(cs))\n",
        "cs_m[index2]=cs[index1]\n",
        "\n",
        "l1 = len(csource[0])\n",
        "l2 = len(csource[1])\n",
        "l3 = len(csource[2])\n",
        "\n",
        "csource_m=csource\n",
        "csource_m[0] = cs_m[0:l1]\n",
        "csource_m[1] = cs_m[l1:l1+l2]\n",
        "csource_m[2] = cs_m[l1+l2:l1+l2+l3]\n",
        "\n",
        "# And obtain and save the key according to index1 and index2.\n",
        "\n",
        "# the rule is key[index_source]=index_target\n",
        "\n",
        "key =np.zeros(len(cs))\n",
        "key[index1]=index2\n",
        "savetxt('key.csv', key, delimiter=',')"
      ],
      "execution_count": 6,
      "outputs": []
    },
    {
      "cell_type": "code",
      "metadata": {
        "id": "goEDHS8GNJKG"
      },
      "source": [
        "# 5. Apply IDWT\n",
        "\n",
        "audio1_I = pywt.waverec(csource_m, 'sym4')\n",
        "\n",
        "# listen the \"new\" audio1 (voice conversion from audio1 to audio2) \n",
        "IPython.display.Audio(audio1_I, rate=sr1)"
      ],
      "execution_count": null,
      "outputs": []
    }
  ]
}