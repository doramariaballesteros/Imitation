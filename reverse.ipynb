{
  "nbformat": 4,
  "nbformat_minor": 0,
  "metadata": {
    "colab": {
      "name": "reverse.ipynb",
      "provenance": [],
      "collapsed_sections": [],
      "toc_visible": true
    },
    "kernelspec": {
      "name": "python3",
      "display_name": "Python 3"
    },
    "language_info": {
      "name": "python"
    }
  },
  "cells": [
    {
      "cell_type": "markdown",
      "metadata": {
        "id": "BZln6huPe8pO"
      },
      "source": [
        "# **IMITATION:  VOICE CONVERSION USING SIGNAL PROCESSING**\n",
        "\n",
        "---\n",
        "\n",
        "\n",
        "AUTHOR:  DORA MARIA BALLESTEROS\n",
        "\n",
        "---\n",
        "If you use this code, please cite the following documents:\n",
        "\n",
        "1.   Ballesteros L, D. M., & Moreno A, J. M. (2012). On the ability of adaptation of speech signals and data hiding. Expert Systems with Applications, 39(16), 12574-12579.\n",
        "2.   Ballesteros L, D. M., & Moreno A, J. M. (2012). Highly transparent steganography model of speech signals using Efficient Wavelet Masking. Expert Systems with Applications, 39(10), 9141-9149."
      ]
    },
    {
      "cell_type": "code",
      "metadata": {
        "id": "RVFgDpr_RhDk"
      },
      "source": [
        "# This code allows you to reverse the Imitation using signal processing \n",
        "# The inputs are: imitated, key\n",
        "# The outputs are: reverse\n",
        "# Author: Dora Maria Ballesteros\n",
        "# Last version: 28/05/2021\n",
        "\n",
        "from scipy.io import wavfile\n",
        "import IPython\n",
        "import numpy as np\n",
        "import pywt\n",
        "import csv\n",
        "from pywt import wavedec\n",
        "from pywt import waverec"
      ],
      "execution_count": null,
      "outputs": []
    },
    {
      "cell_type": "code",
      "metadata": {
        "id": "E6bxChatRbrn"
      },
      "source": [
        "# 1. Load the audio and apply DWT\n",
        "\n",
        "sr3, imitated = wavfile.read('/content/imitated2.wav')\n",
        "IPython.display.Audio(imitated, rate=sr3)"
      ],
      "execution_count": null,
      "outputs": []
    },
    {
      "cell_type": "code",
      "metadata": {
        "id": "6JFoD5mXy6Pr"
      },
      "source": [
        "cImitated = wavedec(imitated, 'sym4', level=2)\n",
        "cIA2 = cImitated[0]\n",
        "cID2 = cImitated[1]\n",
        "cID1 = cImitated[2]\n",
        "cI=np.concatenate((cIA2, cID2, cID1), axis=0)"
      ],
      "execution_count": null,
      "outputs": []
    },
    {
      "cell_type": "code",
      "metadata": {
        "id": "m8_d86YCgV5E"
      },
      "source": [
        "# 2. Load the key\n",
        "\n",
        "data_path = '/content/key2.csv'\n",
        "with open(data_path, 'r') as f:\n",
        "    reader = csv.reader(f, delimiter=',')\n",
        "    key = np.array(list(reader)).astype(float)\n",
        "\n",
        "key = np.transpose(key)\n",
        "key = np.reshape(key,(len(cI)))\n",
        "key = key.astype(int)"
      ],
      "execution_count": null,
      "outputs": []
    },
    {
      "cell_type": "code",
      "metadata": {
        "id": "jGGygUtJg9OQ"
      },
      "source": [
        "# 3. Assign new places of the wavelet coefficients\n",
        "\n",
        "cI=cI[key]\n",
        "cIm = cImitated\n",
        "l1 = len(cImitated[0])\n",
        "l2 = len(cImitated[1])\n",
        "l3 = len(cImitated[2])\n",
        "cIm[0] = cI[0:l1]\n",
        "cIm[1] = cI[l1:l1+l2]\n",
        "cIm[2] = cI[l1+l2:l1+l2+l3]"
      ],
      "execution_count": null,
      "outputs": []
    },
    {
      "cell_type": "code",
      "metadata": {
        "id": "xguBCCwWeV1V"
      },
      "source": [
        "reverse = pywt.waverec(cIm, 'sym4')\n",
        "IPython.display.Audio(reverse, rate=sr3)"
      ],
      "execution_count": null,
      "outputs": []
    }
  ]
}